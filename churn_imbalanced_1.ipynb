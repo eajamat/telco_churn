{
 "cells": [
  {
   "cell_type": "code",
   "execution_count": 25,
   "metadata": {},
   "outputs": [],
   "source": [
    "import pandas as pd\n",
    "import numpy as np\n",
    "import matplotlib.pyplot as plt\n",
    "import seaborn as sns\n",
    "from imblearn.over_sampling import SMOTE\n",
    "from sklearn.model_selection import train_test_split\n",
    "from sklearn.metrics import classification_report,accuracy_score\n",
    "import xgboost as xgb\n",
    "from sklearn.ensemble import GradientBoostingClassifier"
   ]
  },
  {
   "cell_type": "code",
   "execution_count": 2,
   "metadata": {},
   "outputs": [
    {
     "data": {
      "text/plain": [
       "(26895, 17)"
      ]
     },
     "execution_count": 2,
     "metadata": {},
     "output_type": "execute_result"
    }
   ],
   "source": [
    "df_1=pd.read_csv(\"AUG19.csv\")\n",
    "df_2=pd.read_csv(\"SEP19.csv\")\n",
    "df_1.shape  #(26681, 17)\n",
    "df_2.shape  #(26895, 17)\n",
    "#same nos. of columns so df can be concatenated by columns"
   ]
  },
  {
   "cell_type": "code",
   "execution_count": 3,
   "metadata": {},
   "outputs": [
    {
     "data": {
      "text/plain": [
       "(53576, 17)"
      ]
     },
     "execution_count": 3,
     "metadata": {},
     "output_type": "execute_result"
    }
   ],
   "source": [
    "df_combined=pd.concat([df_1,df_2],axis=0)\n",
    "df_combined.shape"
   ]
  },
  {
   "cell_type": "code",
   "execution_count": 4,
   "metadata": {},
   "outputs": [
    {
     "data": {
      "text/plain": [
       "<matplotlib.axes._subplots.AxesSubplot at 0x23619857860>"
      ]
     },
     "execution_count": 4,
     "metadata": {},
     "output_type": "execute_result"
    },
    {
     "data": {
      "image/png": "[encoded data removed]",
      "text/plain": [
       "<Figure size 432x288 with 1 Axes>"
      ]
     },
     "metadata": {
      "needs_background": "light"
     },
     "output_type": "display_data"
    }
   ],
   "source": [
    "df_combined['CHURN'].value_counts()\n",
    "#here we visualize the imbalance in the dataset\n",
    "\n",
    "temp_a=df_combined.groupby(['CHURN']).size()\n",
    "temp_a.plot.bar()"
   ]
  },
  {
   "cell_type": "code",
   "execution_count": 5,
   "metadata": {},
   "outputs": [
    {
     "data": {
      "text/plain": [
       "IMAGE                 0.000000\n",
       "GN                    0.033597\n",
       "CN                    0.011199\n",
       "ACCT_NO               0.000000\n",
       "CONT_NO               0.000000\n",
       "LINE_NO               0.000000\n",
       "LINE_STAT             0.000000\n",
       "SERV_CODE             0.000000\n",
       "BILL_CYCL             0.000000\n",
       "DISTRICT              0.000000\n",
       "TENURE                0.000000\n",
       "CHURN                 0.000000\n",
       "SECURED_REVENUE       5.349410\n",
       "CHURN_REASON         98.280947\n",
       "CHURN_GROUP          98.295879\n",
       "CURRENT_MTH_CHURN     0.000000\n",
       "COSTCENTRE            0.000000\n",
       "dtype: float64"
      ]
     },
     "execution_count": 5,
     "metadata": {},
     "output_type": "execute_result"
    }
   ],
   "source": [
    "#checking the dataset for nulls\n",
    "#df_combined.isnull().sum()\n",
    "100*(df_combined.isnull().mean())"
   ]
  },
  {
   "cell_type": "code",
   "execution_count": 6,
   "metadata": {},
   "outputs": [
    {
     "data": {
      "text/plain": [
       "IMAGE                   0\n",
       "GN                     18\n",
       "CN                      6\n",
       "ACCT_NO                 0\n",
       "CONT_NO                 0\n",
       "LINE_NO                 0\n",
       "LINE_STAT               0\n",
       "SERV_CODE               0\n",
       "BILL_CYCL               0\n",
       "DISTRICT                0\n",
       "TENURE                  0\n",
       "CHURN                   0\n",
       "SECURED_REVENUE      2866\n",
       "CURRENT_MTH_CHURN       0\n",
       "COSTCENTRE              0\n",
       "dtype: int64"
      ]
     },
     "execution_count": 6,
     "metadata": {},
     "output_type": "execute_result"
    }
   ],
   "source": [
    "#dimensionality reduction has got 2types :feature elimination/feature extraction.Here we are doing feature elimination.\n",
    "#dropping features having >95% nulls\n",
    "df_combined_nulldrop=df_combined.drop(['CHURN_REASON','CHURN_GROUP'],axis=1)\n",
    "df_combined_nulldrop.isnull().sum()"
   ]
  },
  {
   "cell_type": "code",
   "execution_count": 7,
   "metadata": {},
   "outputs": [],
   "source": [
    "#Imputing SECURED_REVENUE \n",
    "median_secured_revenue=df_combined_nulldrop[\"SECURED_REVENUE\"].median()\n",
    "df_combined_nulldrop[\"SECURED_REVENUE\"].fillna(value=median_secured_revenue, inplace = True)\n",
    "\n",
    "#dropping serial no. type columns\n",
    "df_combined_nulldrop=df_combined_nulldrop.drop(['GN','CN'],axis=1)"
   ]
  },
  {
   "cell_type": "code",
   "execution_count": 8,
   "metadata": {},
   "outputs": [],
   "source": [
    "#separating the output variable 'CHURN'\n",
    "df_3=df_combined_nulldrop\n",
    "y=df_3['CHURN']\n",
    "df_3=df_3.drop(['CHURN'],axis=1)"
   ]
  },
  {
   "cell_type": "code",
   "execution_count": 9,
   "metadata": {},
   "outputs": [],
   "source": [
    "#changing other datatypes\n",
    "df_3['BILL_CYCL']=pd.Categorical(df_3.BILL_CYCL)\n",
    "df_3['COSTCENTRE']=pd.Categorical(df_3.COSTCENTRE)\n",
    "df_3['CURRENT_MTH_CHURN']=pd.Categorical(df_3.CURRENT_MTH_CHURN)\n",
    "df_3['DISTRICT']=pd.Categorical(df_3.DISTRICT)\n",
    "df_3['SERV_CODE']=pd.Categorical(df_3.SERV_CODE)\n",
    "df_3['LINE_STAT']=pd.Categorical(df_3.LINE_STAT)\n",
    "df_3['LINE_NO']=pd.Categorical(df_3.LINE_NO)\n",
    "df_3=df_3.drop(['ACCT_NO','CONT_NO','IMAGE'],axis=1)"
   ]
  },
  {
   "cell_type": "code",
   "execution_count": 10,
   "metadata": {},
   "outputs": [
    {
     "data": {
      "text/plain": [
       "dtype('O')"
      ]
     },
     "execution_count": 10,
     "metadata": {},
     "output_type": "execute_result"
    }
   ],
   "source": [
    "y.dtype"
   ]
  },
  {
   "cell_type": "code",
   "execution_count": 11,
   "metadata": {},
   "outputs": [
    {
     "data": {
      "text/plain": [
       "LINE_NO              category\n",
       "LINE_STAT            category\n",
       "SERV_CODE            category\n",
       "BILL_CYCL            category\n",
       "DISTRICT               object\n",
       "TENURE                  int64\n",
       "SECURED_REVENUE       float64\n",
       "CURRENT_MTH_CHURN    category\n",
       "COSTCENTRE           category\n",
       "dtype: object"
      ]
     },
     "execution_count": 11,
     "metadata": {},
     "output_type": "execute_result"
    }
   ],
   "source": [
    "df_3['DISTRICT']=df_3['DISTRICT'].astype(str)\n",
    "df_3.dtypes"
   ]
  },
  {
   "cell_type": "code",
   "execution_count": 12,
   "metadata": {},
   "outputs": [],
   "source": [
    "df_3=df_3.drop(['LINE_NO'],axis=1)"
   ]
  },
  {
   "cell_type": "code",
   "execution_count": 13,
   "metadata": {},
   "outputs": [
    {
     "data": {
      "text/plain": [
       "(53576, 469)"
      ]
     },
     "execution_count": 13,
     "metadata": {},
     "output_type": "execute_result"
    }
   ],
   "source": [
    "#One hot encoding\n",
    "df_ohe=pd.get_dummies(df_3)\n",
    "df_ohe.shape"
   ]
  },
  {
   "cell_type": "code",
   "execution_count": 14,
   "metadata": {},
   "outputs": [],
   "source": [
    "X=df_ohe"
   ]
  },
  {
   "cell_type": "code",
   "execution_count": 15,
   "metadata": {},
   "outputs": [],
   "source": [
    "#replacing Y by 1 & N by 0 to avoid below error\n",
    "#ValueError: could not convert string to float: 'N'\n",
    "y.replace(('Y','N'), (1, 0), inplace=True)"
   ]
  },
  {
   "cell_type": "code",
   "execution_count": 16,
   "metadata": {},
   "outputs": [],
   "source": [
    "X_train,X_test,Y_train,Y_test = train_test_split(X,y,test_size=0.3,random_state=123)"
   ]
  },
  {
   "cell_type": "code",
   "execution_count": 17,
   "metadata": {},
   "outputs": [],
   "source": [
    "#convert the dataset into an optimized data structure called Dmatrix that XGBoost supports \n",
    "#and gives it performance and efficiency gains.\n",
    "#D_train = xgb.DMatrix(X_train,Y_train)"
   ]
  },
  {
   "cell_type": "code",
   "execution_count": 18,
   "metadata": {},
   "outputs": [],
   "source": [
    "#D_test = xgb.DMatrix(X_test, label=Y_test)\n"
   ]
  },
  {
   "cell_type": "code",
   "execution_count": 19,
   "metadata": {},
   "outputs": [],
   "source": [
    "#default values n_estimator=100;learning_rate=0.1;max_depth=3\n",
    "model_xgb=xgb.XGBClassifier().fit(X_train,Y_train)"
   ]
  },
  {
   "cell_type": "code",
   "execution_count": 28,
   "metadata": {},
   "outputs": [],
   "source": [
    "#now changing parameters n_estimator=70;learning_rate=0.2;max_depth=5\n",
    "model_xgb_1=xgb.XGBClassifier(max_depth=5,learning_rate=0.5,n_estimators=60).fit(X_train,Y_train)"
   ]
  },
  {
   "cell_type": "code",
   "execution_count": 29,
   "metadata": {},
   "outputs": [
    {
     "name": "stdout",
     "output_type": "stream",
     "text": [
      "             precision    recall  f1-score   support\n",
      "\n",
      "          0       0.99      1.00      1.00     15797\n",
      "          1       0.98      0.70      0.82       276\n",
      "\n",
      "avg / total       0.99      0.99      0.99     16073\n",
      "\n"
     ]
    },
    {
     "name": "stderr",
     "output_type": "stream",
     "text": [
      "C:\\Users\\eajamat\\AppData\\Local\\Continuum\\anaconda3\\lib\\site-packages\\sklearn\\preprocessing\\label.py:151: DeprecationWarning: The truth value of an empty array is ambiguous. Returning False, but in future this will result in an error. Use `array.size > 0` to check that an array is not empty.\n",
      "  if diff:\n"
     ]
    }
   ],
   "source": [
    "Y_pred_1 = model_xgb_1.predict(X_test)\n",
    "print(classification_report(Y_test, Y_pred_1))\n"
   ]
  },
  {
   "cell_type": "code",
   "execution_count": 20,
   "metadata": {},
   "outputs": [
    {
     "name": "stdout",
     "output_type": "stream",
     "text": [
      "Accuracy of XGB classifier on training set:0.99 \n"
     ]
    },
    {
     "name": "stderr",
     "output_type": "stream",
     "text": [
      "C:\\Users\\eajamat\\AppData\\Local\\Continuum\\anaconda3\\lib\\site-packages\\sklearn\\preprocessing\\label.py:151: DeprecationWarning: The truth value of an empty array is ambiguous. Returning False, but in future this will result in an error. Use `array.size > 0` to check that an array is not empty.\n",
      "  if diff:\n"
     ]
    }
   ],
   "source": [
    "print('Accuracy of XGB classifier on training set:{:.2f} '.format(model_xgb.score(X_train, Y_train)))"
   ]
  },
  {
   "cell_type": "code",
   "execution_count": 21,
   "metadata": {},
   "outputs": [
    {
     "name": "stdout",
     "output_type": "stream",
     "text": [
      "             precision    recall  f1-score   support\n",
      "\n",
      "          0       0.99      1.00      1.00     15797\n",
      "          1       1.00      0.69      0.82       276\n",
      "\n",
      "avg / total       0.99      0.99      0.99     16073\n",
      "\n"
     ]
    },
    {
     "name": "stderr",
     "output_type": "stream",
     "text": [
      "C:\\Users\\eajamat\\AppData\\Local\\Continuum\\anaconda3\\lib\\site-packages\\sklearn\\preprocessing\\label.py:151: DeprecationWarning: The truth value of an empty array is ambiguous. Returning False, but in future this will result in an error. Use `array.size > 0` to check that an array is not empty.\n",
      "  if diff:\n"
     ]
    }
   ],
   "source": [
    "Y_pred = model_xgb.predict(X_test)\n",
    "print(classification_report(Y_test, Y_pred))\n"
   ]
  },
  {
   "cell_type": "code",
   "execution_count": 22,
   "metadata": {},
   "outputs": [
    {
     "name": "stderr",
     "output_type": "stream",
     "text": [
      "C:\\Users\\eajamat\\AppData\\Local\\Continuum\\anaconda3\\lib\\site-packages\\sklearn\\ensemble\\weight_boosting.py:29: DeprecationWarning: numpy.core.umath_tests is an internal NumPy module and should not be imported. It will be removed in a future NumPy release.\n",
      "  from numpy.core.umath_tests import inner1d\n"
     ]
    }
   ],
   "source": [
    "#run random forest classifier on the same data\n",
    "from sklearn.ensemble import RandomForestClassifier\n",
    "rf=RandomForestClassifier()\n",
    "model_rf=rf.fit(X_train,Y_train)\n",
    "y_pred_rf=model_rf.predict(X_test)\n",
    "\n",
    "\n",
    "\n"
   ]
  },
  {
   "cell_type": "code",
   "execution_count": 23,
   "metadata": {},
   "outputs": [
    {
     "name": "stdout",
     "output_type": "stream",
     "text": [
      "             precision    recall  f1-score   support\n",
      "\n",
      "          0       1.00      1.00      1.00     15797\n",
      "          1       0.97      0.72      0.82       276\n",
      "\n",
      "avg / total       0.99      0.99      0.99     16073\n",
      "\n"
     ]
    }
   ],
   "source": [
    "print(classification_report(Y_test,y_pred_rf))"
   ]
  },
  {
   "cell_type": "code",
   "execution_count": 24,
   "metadata": {},
   "outputs": [
    {
     "name": "stdout",
     "output_type": "stream",
     "text": [
      "             precision    recall  f1-score   support\n",
      "\n",
      "          0       0.99      1.00      1.00     15797\n",
      "          1       0.93      0.71      0.80       276\n",
      "\n",
      "avg / total       0.99      0.99      0.99     16073\n",
      "\n"
     ]
    }
   ],
   "source": [
    "#run logistic regression on the same data\n",
    "from sklearn.linear_model import LogisticRegression\n",
    "lr=RandomForestClassifier()\n",
    "model_lr=lr.fit(X_train,Y_train)\n",
    "y_pred_lr=model_lr.predict(X_test)\n",
    "print(classification_report(Y_test,y_pred_lr))\n"
   ]
  },
  {
   "cell_type": "code",
   "execution_count": null,
   "metadata": {},
   "outputs": [],
   "source": []
  }
 ],
 "metadata": {
  "kernelspec": {
   "display_name": "Python 3",
   "language": "python",
   "name": "python3"
  },
  "language_info": {
   "codemirror_mode": {
    "name": "ipython",
    "version": 3
   },
   "file_extension": ".py",
   "mimetype": "text/x-python",
   "name": "python",
   "nbconvert_exporter": "python",
   "pygments_lexer": "ipython3",
   "version": "3.7.0"
  }
 },
 "nbformat": 4,
 "nbformat_minor": 2
}
